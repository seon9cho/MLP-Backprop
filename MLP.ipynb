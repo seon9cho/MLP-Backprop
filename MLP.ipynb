{
 "cells": [
  {
   "cell_type": "code",
   "execution_count": 1,
   "metadata": {},
   "outputs": [],
   "source": [
    "import numpy as np\n",
    "from sklearn.base import BaseEstimator, ClassifierMixin\n",
    "from sklearn.model_selection import train_test_split\n",
    "\n",
    "### NOTE: The only methods you are required to have are:\n",
    "#   * predict\n",
    "#   * fit\n",
    "#   * score\n",
    "#   * get_weights\n",
    "#   They must take at least the parameters below, exactly as specified. The output of\n",
    "#   get_weights must be in the same format as the example provided.\n",
    "\n",
    "class MLPClassifier(BaseEstimator,ClassifierMixin):\n",
    "\n",
    "    def __init__(self, hidden_layer_widths, lr=.1, momentum=0, max_iter=1000, shuffle=True):\n",
    "        \"\"\" Initialize class with chosen hyperparameters.\n",
    "        Args:\n",
    "            hidden_layer_widths (list(int)): A list of integers which defines the width of each hidden layer\n",
    "            lr (float): A learning rate / step size.\n",
    "            shuffle: Whether to shuffle the training data each epoch. DO NOT SHUFFLE for evaluation / debug datasets.\n",
    "        Example:\n",
    "            mlp = MLPClassifier([3,3]),  <--- this will create a model with two hidden layers, both 3 nodes wide\n",
    "        \"\"\"\n",
    "        self.hidden_layer_widths = hidden_layer_widths\n",
    "        self.num_layers = len(hidden_layer_widths) + 1\n",
    "        self.lr = lr\n",
    "        self.momentum = momentum\n",
    "        self.max_iter = max_iter\n",
    "        self.shuffle = shuffle\n",
    "        \n",
    "        self.z = [0] * self.num_layers\n",
    "        self.sigmoid = lambda x: 1 / (1 + np.exp(-x))\n",
    "        self.train_loss = []\n",
    "        self.val_loss = []\n",
    "        self.val_score = []\n",
    "        self.num_iter = 0\n",
    "\n",
    "    def fit(self, X, y, initial_weights=None, deterministic=False, val_size=0.25):\n",
    "        \"\"\" Fit the data; run the algorithm and adjust the weights to find a good solution\n",
    "        Args:\n",
    "            X (array-like): A 2D numpy array with the training data, excluding targets\n",
    "            y (array-like): A 2D numpy array with the training targets\n",
    "            initial_weights (array-like): allows the user to provide initial weights\n",
    "        Returns:\n",
    "            self: this allows this to be chained, e.g. model.fit(X,y).predict(X_test)\n",
    "        \"\"\"\n",
    "        self.input_dim = X.shape[1]\n",
    "        self.output_dim = y.shape[1]\n",
    "        self.initial_weights = self.initialize_weights() if not initial_weights else initial_weights\n",
    "        self.weights = self.initial_weights.copy()\n",
    "        if deterministic:\n",
    "            for i in range(deterministic):\n",
    "                self._train(X, y)\n",
    "        else:\n",
    "            X, X_val, y, y_val = train_test_split(X, y, test_size=val_size)\n",
    "            break_cond = \"Maximum number of iterations reached.\"\n",
    "            for i in range(self.max_iter):\n",
    "                self._train(X, y)\n",
    "                self._validate(X_val, y_val)\n",
    "                stop = self._stopping_criterion()\n",
    "                if stop:\n",
    "                    break_cond = \"Model converged after {} iterations.\".format(i)\n",
    "                    break\n",
    "            self.num_iter = i\n",
    "            print(break_cond)\n",
    "        \n",
    "        return self\n",
    "    \n",
    "    def _train(self, X, y):\n",
    "        initial_weights = self.weights.copy()\n",
    "        temp_loss = []\n",
    "        if self.shuffle:\n",
    "            _X, _y = self._shuffle_data(X, y)\n",
    "        else:\n",
    "            _X, _y = X, y\n",
    "        for x,t in zip(_X, _y):\n",
    "            t_hat = self._forward(x)\n",
    "            loss = ((1/2) * (t - t_hat)**2).mean()\n",
    "            temp_loss.append(loss)\n",
    "            self._backward(t_hat, t)\n",
    "        self.train_loss.append(sum(temp_loss) / len(temp_loss))\n",
    "    \n",
    "    def _validate(self, X, y):\n",
    "        temp_loss = []\n",
    "        for x, t in zip(X, y):\n",
    "            t_hat = self._forward(x)\n",
    "            loss = ((1/2) * (t - t_hat)**2).mean()\n",
    "            temp_loss.append(loss)\n",
    "        self.val_loss.append(sum(temp_loss) / len(temp_loss))\n",
    "        score = self.score(X, y)\n",
    "        self.val_score.append(score)\n",
    "        \n",
    "    def _forward(self, x):\n",
    "        self.a = []\n",
    "        for i in range(self.num_layers):\n",
    "            x = np.append(x, 1)\n",
    "            self.a.append(x)\n",
    "            x = self.weights[i] @ x\n",
    "            x = self.sigmoid(x)\n",
    "        return x\n",
    "    \n",
    "    def _backward(self, t_hat, t):\n",
    "        delta = (t - t_hat) * t_hat * (1 - t_hat)\n",
    "        dw = np.outer(delta, self.a[-1])\n",
    "        self.z[-1] = self.lr*dw + self.momentum*self.z[-1]\n",
    "        for i in range(1, self.num_layers):\n",
    "            derivative = self.a[-i][:-1] * (1 - self.a[-i][:-1])\n",
    "            delta = (self.weights[-i][:,:-1].T @ delta) * derivative\n",
    "            dw = np.outer(delta, self.a[-i-1])\n",
    "            self.z[-i-1] = self.lr*dw + self.momentum*self.z[-i-1]\n",
    "        for i in range(self.num_layers):\n",
    "            self.weights[i] += self.z[i]\n",
    "            \n",
    "    def _stopping_criterion(self):\n",
    "        bssf = min(self.val_loss)\n",
    "        if min(self.val_loss[-10:]) == bssf:\n",
    "            return False\n",
    "        else:\n",
    "            return True\n",
    "    \n",
    "    def predict(self, X):\n",
    "        \"\"\" Predict all classes for a dataset X\n",
    "        Args:\n",
    "            X (array-like): A 2D numpy array with the training data, excluding targets\n",
    "        Returns:\n",
    "            array, shape (n_samples,)\n",
    "                Predicted target values per element in X.\n",
    "        \"\"\"\n",
    "        pred = []\n",
    "        for x in X:\n",
    "            y = self._forward(x).argmax()\n",
    "            pred.append(y)\n",
    "        return np.array(pred)\n",
    "        \n",
    "\n",
    "    def initialize_weights(self):\n",
    "        \"\"\" Initialize weights for perceptron. Don't forget the bias!\n",
    "        Returns:\n",
    "        \"\"\"\n",
    "        weights = []\n",
    "        input_layer = np.random.normal(size=(self.hidden_layer_widths[0], self.input_dim+1))\n",
    "        weights.append(input_layer)\n",
    "        for i in range(self.num_layers - 2):\n",
    "            w1, w2 = self.hidden_layer_widths[i:i+2]\n",
    "            layer = np.random.normal(size=(w2, w1+1))\n",
    "            weights.append(layer)\n",
    "        output_layer = np.random.normal(size=(self.output_dim, self.hidden_layer_widths[-1]+1))\n",
    "        weights.append(output_layer)\n",
    "        return weights\n",
    "\n",
    "    def score(self, X, y):\n",
    "        \"\"\" Return accuracy of model on a given dataset. Must implement own score function.\n",
    "        Args:\n",
    "            X (array-like): A 2D numpy array with data, excluding targets\n",
    "            y (array-like): A 2D numpy array with targets\n",
    "        Returns:\n",
    "            score : float\n",
    "                Mean accuracy of self.predict(X) wrt. y.\n",
    "        \"\"\"\n",
    "        pred = self.predict(X)\n",
    "        y_a = y.argmax(axis=1)\n",
    "        return sum(pred==y_a) / len(pred)\n",
    "    \n",
    "    def average_loss(self, X, y):\n",
    "        temp_loss = []\n",
    "        for x, t in zip(X, y):\n",
    "            t_hat = self._forward(x)\n",
    "            loss = ((1/2) * (t - t_hat)**2).mean()\n",
    "            temp_loss.append(loss)\n",
    "        return sum(temp_loss) / len(temp_loss)\n",
    "    \n",
    "    def _shuffle_data(self, X, y):\n",
    "        \"\"\" Shuffle the data! This _ prefix suggests that this method should only be called internally.\n",
    "            It might be easier to concatenate X & y and shuffle a single 2D array, rather than\n",
    "             shuffling X and y exactly the same way, independently.\n",
    "        \"\"\"\n",
    "        Xy = np.hstack([X, y])\n",
    "        np.random.shuffle(Xy)\n",
    "        return Xy[:, :-self.output_dim], Xy[:, -self.output_dim:]\n",
    "\n",
    "    ### Not required by sk-learn but required by us for grading. Returns the weights.\n",
    "    def get_weights(self):\n",
    "        return self.weights"
   ]
  },
  {
   "cell_type": "code",
   "execution_count": 2,
   "metadata": {},
   "outputs": [],
   "source": [
    "from scipy.io import arff\n",
    "import matplotlib.pyplot as plt"
   ]
  },
  {
   "cell_type": "code",
   "execution_count": 4,
   "metadata": {},
   "outputs": [],
   "source": [
    "# Method to one hot encode 1d array\n",
    "def onehot_encode(x):\n",
    "    x = x.astype(np.int)\n",
    "    n_classes = max(x) + 1\n",
    "    n = len(x)\n",
    "    onehot = np.zeros((n, n_classes))\n",
    "    onehot[np.arange(n), x] = 1\n",
    "    return onehot"
   ]
  },
  {
   "cell_type": "markdown",
   "metadata": {},
   "source": [
    "# Debug"
   ]
  },
  {
   "cell_type": "code",
   "execution_count": 376,
   "metadata": {},
   "outputs": [
    {
     "name": "stdout",
     "output_type": "stream",
     "text": [
      "[(-0.4,  0.3, b'1') (-0.3,  0.8, b'1') (-0.2,  0.3, b'1')\n",
      " (-0.1,  0.9, b'1') (-0.1,  0.1, b'0') ( 0. , -0.2, b'0')\n",
      " ( 0.1,  0.2, b'0') ( 0.2, -0.2, b'0')]\n",
      "Dataset: linSep2nonorigin\n",
      "\ta1's type is numeric\n",
      "\ta2's type is numeric\n",
      "\tclass's type is nominal, range is ('0', '1')\n",
      "\n"
     ]
    },
    {
     "data": {
      "text/plain": [
       "MLPClassifier(hidden_layer_widths=[4], lr=0.1, momentum=0.5, shuffle=False)"
      ]
     },
     "execution_count": 376,
     "metadata": {},
     "output_type": "execute_result"
    }
   ],
   "source": [
    "data, meta = arff.loadarff(\"linsep2nonorigin.arff\")\n",
    "print(data)\n",
    "print(meta)\n",
    "X = np.stack([data['a1'], data['a2']]).T\n",
    "y_a = data['class'].astype(int)\n",
    "y = y_a.reshape(-1, 1)\n",
    "y_onehot = onehot_encode(y_a)\n",
    "\n",
    "weights = [np.zeros((4,3)), np.zeros((2,5))]\n",
    "mlp = MLPClassifier([4], momentum=0.5, shuffle=False)\n",
    "mlp.fit(X, y_onehot, deterministic=10, initial_weights=weights)"
   ]
  },
  {
   "cell_type": "code",
   "execution_count": 377,
   "metadata": {},
   "outputs": [
    {
     "data": {
      "text/plain": [
       "[array([[-0.00018149,  0.00157468, -0.00788218],\n",
       "        [-0.00018149,  0.00157468, -0.00788218],\n",
       "        [-0.00018149,  0.00157468, -0.00788218],\n",
       "        [-0.00018149,  0.00157468, -0.00788218]]),\n",
       " array([[ 0.01050642,  0.01050642,  0.01050642,  0.01050642,  0.02148778],\n",
       "        [-0.01050642, -0.01050642, -0.01050642, -0.01050642, -0.02148778]])]"
      ]
     },
     "execution_count": 377,
     "metadata": {},
     "output_type": "execute_result"
    }
   ],
   "source": [
    "mlp.weights"
   ]
  },
  {
   "cell_type": "markdown",
   "metadata": {},
   "source": [
    "# Evaluation"
   ]
  },
  {
   "cell_type": "code",
   "execution_count": 258,
   "metadata": {},
   "outputs": [
    {
     "name": "stdout",
     "output_type": "stream",
     "text": [
      "[( 3.6216,   8.6661 , -2.8073, -0.44699, b'0')\n",
      " ( 4.5459,   8.1674 , -2.4586, -1.4621 , b'0')\n",
      " ( 3.866 ,  -2.6383 ,  1.9242,  0.10645, b'0') ...\n",
      " (-3.7503, -13.4586 , 17.5932, -2.7771 , b'1')\n",
      " (-3.5637,  -8.3827 , 12.393 , -1.2823 , b'1')\n",
      " (-2.5419,  -0.65804,  2.6842,  1.1952 , b'1')]\n",
      "Dataset: Banknote_Authenitication\n",
      "\tvariance_wavelet's type is numeric\n",
      "\tskewness_wavelet's type is numeric\n",
      "\tcurtosis_wavelet's type is numeric\n",
      "\tentropy_wavelet's type is numeric\n",
      "\tclass's type is nominal, range is ('0', '1')\n",
      "\n"
     ]
    },
    {
     "data": {
      "text/plain": [
       "MLPClassifier(hidden_layer_widths=[8], lr=0.1, momentum=0.5, shuffle=False)"
      ]
     },
     "execution_count": 258,
     "metadata": {},
     "output_type": "execute_result"
    }
   ],
   "source": [
    "data, meta = arff.loadarff(\"data_banknote_authentication.arff\")\n",
    "print(data)\n",
    "print(meta)\n",
    "fields = []\n",
    "for n in data.dtype.fields.items():\n",
    "    fields.append(n[0])\n",
    "X = np.stack([data[f] for f in fields[:-1]]).T\n",
    "y_a = data['class'].astype(int)\n",
    "y = y_a.reshape(-1, 1)\n",
    "y_onehot = onehot_encode(y_a)\n",
    "\n",
    "weights = [np.zeros((8,5)), np.zeros((1,9))]\n",
    "mlp = MLPClassifier([8], momentum=0.5, shuffle=False)\n",
    "mlp.fit(X, y, deterministic=10, initial_weights=weights)"
   ]
  },
  {
   "cell_type": "code",
   "execution_count": 393,
   "metadata": {},
   "outputs": [
    {
     "name": "stdout",
     "output_type": "stream",
     "text": [
      "-1.5623874318210433\n",
      "-2.002924062050292\n",
      "2.888597489971431\n",
      "-2.084134479934905\n",
      "1.91440326348174\n",
      "2.559921312806906\n",
      "0.38393946606038604\n",
      "1.3826754757921673\n",
      "-0.033833539067985\n",
      "-0.7756849169220646\n",
      "1.3674049152917465\n",
      "-2.1754279674209704\n",
      "-2.7314359285656944\n",
      "-2.3088612016958407\n",
      "4.787202893236517\n",
      "0.3478354121320541\n",
      "-1.809229393894417\n",
      "-0.19706628082343924\n",
      "0.3767960476934684\n",
      "1.2144223292039606\n",
      "-1.8948039410353419\n",
      "0.02551769094819235\n",
      "0.5139034524236422\n",
      "-5.360779836264125\n",
      "0.33224667878479053\n",
      "0.4741634271171892\n",
      "1.0148165630492822\n",
      "0.5163256046255303\n",
      "0.8006446262754267\n",
      "-0.36514498477161006\n",
      "0.10902979791644225\n",
      "1.9057667327462045\n",
      "-0.41403947551851256\n",
      "-0.9123351546267832\n",
      "2.3674582951932583\n",
      "-0.44094285614295686\n",
      "-0.9557258312113772\n",
      "0.466647084759797\n",
      "1.2224371652071386\n",
      "-2.49664428802796\n",
      "-0.06118658853363935\n",
      "0.497281885618026\n",
      "0.4307288156111866\n",
      "0.7809402969066436\n",
      "0.4943885359115743\n",
      "-1.0607098380088529\n",
      "1.0149650201109963\n",
      "-1.4226983841436176\n",
      "3.322267272975271\n",
      "-1.4957959947313682\n",
      "-0.32490737370926387\n",
      "1.1337883194773428\n",
      "3.2176381068967923\n",
      "2.4485037126730758\n",
      "-4.797620299732719\n",
      "-4.626850455049942\n",
      "2.2863526737234396\n",
      "-1.0735150822850545\n",
      "0.26214805686675724\n",
      "-1.0254756552451432\n",
      "1.1837142336070967\n",
      "-0.4685143797126217\n",
      "-0.4889404280532922\n",
      "-0.29387746292486383\n",
      "-2.01195249998517\n",
      "-1.1181618344277768\n",
      "-1.2666492204994149\n"
     ]
    }
   ],
   "source": [
    "for i in range(1, mlp.num_layers + 1):\n",
    "    for v in mlp.weights[-i]:\n",
    "        for w in v:\n",
    "            print(w)"
   ]
  },
  {
   "cell_type": "markdown",
   "metadata": {},
   "source": [
    "# Iris"
   ]
  },
  {
   "cell_type": "code",
   "execution_count": 645,
   "metadata": {},
   "outputs": [
    {
     "name": "stdout",
     "output_type": "stream",
     "text": [
      "Model converged after 86 iterations.\n"
     ]
    },
    {
     "data": {
      "text/plain": [
       "MLPClassifier(hidden_layer_widths=[8], lr=0.1, max_iter=1000, momentum=0,\n",
       "              shuffle=True)"
      ]
     },
     "execution_count": 645,
     "metadata": {},
     "output_type": "execute_result"
    }
   ],
   "source": [
    "from sklearn.datasets import load_iris\n",
    "iris = load_iris()\n",
    "X = iris.data\n",
    "y_a = iris.target\n",
    "y = y_a.reshape(-1, 1)\n",
    "y_onehot = onehot_encode(y_a)\n",
    "#X_train, X_test, y_train, y_test = train_test_split(X, y_onehot, test_size=0.25)\n",
    "mlp = MLPClassifier([8], lr=.1, momentum=0)\n",
    "mlp.fit(X, y_onehot)"
   ]
  },
  {
   "cell_type": "code",
   "execution_count": 646,
   "metadata": {},
   "outputs": [
    {
     "data": {
      "image/png": "[encoded data removed]",
      "text/plain": [
       "<Figure size 720x504 with 2 Axes>"
      ]
     },
     "metadata": {
      "needs_background": "light"
     },
     "output_type": "display_data"
    }
   ],
   "source": [
    "fig, ax1 = plt.subplots(figsize=(10, 7))\n",
    "\n",
    "color = 'tab:red'\n",
    "ax1.set_xlabel('epochs')\n",
    "ax1.set_ylabel('loss (MSE)', color=color)\n",
    "ax1.plot(mlp.train_loss, color='r', label=\"train loss\")\n",
    "ax1.plot(mlp.val_loss, color='g', label=\"validation loss\")\n",
    "ax1.tick_params(axis='y', labelcolor=color)\n",
    "ax1.legend(loc=1)\n",
    "ax2 = ax1.twinx()  # instantiate a second axes that shares the same x-axis\n",
    "\n",
    "color = 'tab:blue'\n",
    "ax2.set_ylabel('accuracy (%)', color=color)  # we already handled the x-label with ax1\n",
    "ax2.plot(mlp.val_score, color='b', label=\"validation accuracy\")\n",
    "ax2.tick_params(axis='y', labelcolor=color)\n",
    "ax2.legend(loc=2)\n",
    "fig.tight_layout()  # otherwise the right y-label is slightly clipped\n",
    "plt.title(\"Improvement in accuracy and loss over training epochs\")\n",
    "plt.show()"
   ]
  },
  {
   "cell_type": "markdown",
   "metadata": {},
   "source": [
    "# Vowel"
   ]
  },
  {
   "cell_type": "code",
   "execution_count": 649,
   "metadata": {},
   "outputs": [],
   "source": [
    "import arff\n",
    "path = r'vowels.arff'\n",
    "data = arff.Arff(arff=path, label_count=1)\n",
    "X = data[:, 2:-1]\n",
    "y = onehot_encode(data[:, -1])\n",
    "X_train, X_test, y_train, y_test = train_test_split(X, y, test_size=.25)"
   ]
  },
  {
   "cell_type": "markdown",
   "metadata": {},
   "source": [
    "## Baseline"
   ]
  },
  {
   "cell_type": "code",
   "execution_count": 650,
   "metadata": {},
   "outputs": [
    {
     "name": "stdout",
     "output_type": "stream",
     "text": [
      "Model converged after 273 iterations.\n"
     ]
    },
    {
     "data": {
      "text/plain": [
       "MLPClassifier(hidden_layer_widths=[22], lr=0.1, max_iter=500, momentum=0,\n",
       "              shuffle=True)"
      ]
     },
     "execution_count": 650,
     "metadata": {},
     "output_type": "execute_result"
    }
   ],
   "source": [
    "mlp = MLPClassifier([22], lr=0.1, max_iter=500)\n",
    "mlp.fit(X_train, y_train)"
   ]
  },
  {
   "cell_type": "code",
   "execution_count": 651,
   "metadata": {},
   "outputs": [
    {
     "data": {
      "text/plain": [
       "0.782258064516129"
      ]
     },
     "execution_count": 651,
     "metadata": {},
     "output_type": "execute_result"
    }
   ],
   "source": [
    "mlp.score(X_test, y_test)"
   ]
  },
  {
   "cell_type": "markdown",
   "metadata": {},
   "source": [
    "## LR Experiment"
   ]
  },
  {
   "cell_type": "code",
   "execution_count": 653,
   "metadata": {},
   "outputs": [
    {
     "name": "stdout",
     "output_type": "stream",
     "text": [
      "Maximum number of iterations reached.\n",
      "Maximum number of iterations reached.\n",
      "Maximum number of iterations reached.\n",
      "learning rate: 0.001\n",
      "train mse:\t0.020325222179184404\n",
      "val mse:\t0.02456480765558321\n",
      "test mse:\t0.0244310726526013\n",
      "num epochs:\t4999.0\n",
      "\n",
      "Model converged after 4633 iterations.\n",
      "Model converged after 4928 iterations.\n",
      "Model converged after 2885 iterations.\n",
      "learning rate: 0.0021544346900318843\n",
      "train mse:\t0.016163837895932093\n",
      "val mse:\t0.019869618032362046\n",
      "test mse:\t0.020662324228280095\n",
      "num epochs:\t4148.666666666667\n",
      "\n",
      "Model converged after 3443 iterations.\n",
      "Model converged after 1644 iterations.\n",
      "Model converged after 2083 iterations.\n",
      "learning rate: 0.004641588833612777\n",
      "train mse:\t0.013265538905542981\n",
      "val mse:\t0.01842411224103388\n",
      "test mse:\t0.01890483367003327\n",
      "num epochs:\t2390.0\n",
      "\n",
      "Model converged after 887 iterations.\n",
      "Model converged after 631 iterations.\n",
      "Model converged after 1045 iterations.\n",
      "learning rate: 0.01\n",
      "train mse:\t0.01458347846983308\n",
      "val mse:\t0.01902756264750591\n",
      "test mse:\t0.01946798037769841\n",
      "num epochs:\t854.3333333333334\n",
      "\n",
      "Model converged after 659 iterations.\n",
      "Model converged after 391 iterations.\n",
      "Model converged after 332 iterations.\n",
      "learning rate: 0.021544346900318832\n",
      "train mse:\t0.015188036786447104\n",
      "val mse:\t0.019399414851781625\n",
      "test mse:\t0.019940185849858464\n",
      "num epochs:\t460.6666666666667\n",
      "\n",
      "Model converged after 200 iterations.\n",
      "Model converged after 271 iterations.\n",
      "Model converged after 226 iterations.\n",
      "learning rate: 0.046415888336127774\n",
      "train mse:\t0.013879845703977595\n",
      "val mse:\t0.019692367059088636\n",
      "test mse:\t0.019493997597350734\n",
      "num epochs:\t232.33333333333334\n",
      "\n",
      "Model converged after 228 iterations.\n",
      "Model converged after 182 iterations.\n",
      "Model converged after 187 iterations.\n",
      "learning rate: 0.1\n",
      "train mse:\t0.011156979770565845\n",
      "val mse:\t0.015242140223344407\n",
      "test mse:\t0.016262872144473344\n",
      "num epochs:\t199.0\n",
      "\n",
      "Model converged after 77 iterations.\n",
      "Model converged after 90 iterations.\n",
      "Model converged after 70 iterations.\n",
      "learning rate: 0.21544346900318823\n",
      "train mse:\t0.013098742410845729\n",
      "val mse:\t0.019465869263954265\n",
      "test mse:\t0.019177965177299684\n",
      "num epochs:\t79.0\n",
      "\n",
      "Model converged after 109 iterations.\n",
      "Model converged after 120 iterations.\n",
      "Model converged after 53 iterations.\n",
      "learning rate: 0.46415888336127775\n",
      "train mse:\t0.008115157109307677\n",
      "val mse:\t0.016318236626789273\n",
      "test mse:\t0.015935627079553774\n",
      "num epochs:\t94.0\n",
      "\n",
      "Model converged after 58 iterations.\n",
      "Model converged after 41 iterations.\n",
      "Model converged after 37 iterations.\n",
      "learning rate: 1.0\n",
      "train mse:\t0.014175529744803314\n",
      "val mse:\t0.020583969755292815\n",
      "test mse:\t0.022422922945234267\n",
      "num epochs:\t45.333333333333336\n",
      "\n",
      "Model converged after 28 iterations.\n",
      "Model converged after 45 iterations.\n",
      "Model converged after 56 iterations.\n",
      "learning rate: 2.154434690031882\n",
      "train mse:\t0.024085046762108746\n",
      "val mse:\t0.026071178373463774\n",
      "test mse:\t0.026748648225832932\n",
      "num epochs:\t43.0\n",
      "\n",
      "Model converged after 29 iterations.\n",
      "Model converged after 25 iterations.\n",
      "Model converged after 26 iterations.\n",
      "learning rate: 4.6415888336127775\n",
      "train mse:\t0.03811966271610987\n",
      "val mse:\t0.0405941473500385\n",
      "test mse:\t0.038309845020658394\n",
      "num epochs:\t26.666666666666668\n",
      "\n",
      "Model converged after 20 iterations.\n",
      "Model converged after 11 iterations.\n",
      "Model converged after 14 iterations.\n",
      "learning rate: 10.0\n",
      "train mse:\t0.045049574258778306\n",
      "val mse:\t0.051548317638191794\n",
      "test mse:\t0.05156764564627389\n",
      "num epochs:\t15.0\n",
      "\n"
     ]
    }
   ],
   "source": [
    "lr_list = np.logspace(-3, 1, 13)\n",
    "train_mse_list = []\n",
    "val_mse_list = []\n",
    "test_mse_list = []\n",
    "num_epochs = []\n",
    "for lr in lr_list:\n",
    "    train_mse = 0\n",
    "    val_mse = 0\n",
    "    test_mse = 0\n",
    "    n = 0\n",
    "    for _ in range(3):\n",
    "        mlp = MLPClassifier([22], lr=lr, max_iter=5000)\n",
    "        mlp.fit(X_train, y_train)\n",
    "        train_mse += mlp.train_loss[-1]\n",
    "        val_mse += mlp.val_loss[-1]\n",
    "        test_mse += mlp.average_loss(X_test, y_test)\n",
    "        n += mlp.num_iter\n",
    "    train_mse /= 3\n",
    "    val_mse /= 3\n",
    "    test_mse /= 3\n",
    "    n /= 3\n",
    "    \n",
    "    train_mse_list.append(train_mse)\n",
    "    val_mse_list.append(val_mse)\n",
    "    test_mse_list.append(test_mse)\n",
    "    num_epochs.append(n)\n",
    "    print(\"learning rate: {}\".format(lr))\n",
    "    print(\"train mse:\\t{}\".format(train_mse))\n",
    "    print(\"val mse:\\t{}\". format(val_mse))\n",
    "    print(\"test mse:\\t{}\".format(test_mse))\n",
    "    print(\"num epochs:\\t{}\".format(n))\n",
    "    print()"
   ]
  },
  {
   "cell_type": "code",
   "execution_count": 656,
   "metadata": {},
   "outputs": [
    {
     "data": {
      "image/png": "[encoded data removed]",
      "text/plain": [
       "<Figure size 720x504 with 1 Axes>"
      ]
     },
     "metadata": {
      "needs_background": "light"
     },
     "output_type": "display_data"
    },
    {
     "data": {
      "image/png": "[encoded data removed]",
      "text/plain": [
       "<Figure size 720x504 with 1 Axes>"
      ]
     },
     "metadata": {
      "needs_background": "light"
     },
     "output_type": "display_data"
    }
   ],
   "source": [
    "plt.figure(figsize=(10, 7))\n",
    "plt.semilogx(lr_list, train_mse_list, label=\"train set\")\n",
    "plt.semilogx(lr_list, val_mse_list, label=\"validation set\")\n",
    "plt.semilogx(lr_list, test_mse_list, label=\"test set\")\n",
    "plt.xlabel(\"Learning rate\")\n",
    "plt.ylabel(\"MSE\")\n",
    "plt.legend()\n",
    "plt.title(\"Effect of learning rate on MSE\")\n",
    "plt.show()\n",
    "plt.figure(figsize=(10, 7))\n",
    "plt.semilogx(lr_list, num_epochs)\n",
    "plt.xlabel(\"Learning rate\")\n",
    "plt.ylabel(\"Number of epochs\")\n",
    "plt.title(\"Epochs required for convergence with different learning rate\")\n",
    "plt.show()"
   ]
  },
  {
   "cell_type": "markdown",
   "metadata": {},
   "source": [
    "## Node Experiment"
   ]
  },
  {
   "cell_type": "code",
   "execution_count": 655,
   "metadata": {},
   "outputs": [
    {
     "data": {
      "text/plain": [
       "0.1"
      ]
     },
     "execution_count": 655,
     "metadata": {},
     "output_type": "execute_result"
    }
   ],
   "source": [
    "best_lr = lr_list[np.array(val_mse_list).argmin()]\n",
    "best_lr"
   ]
  },
  {
   "cell_type": "code",
   "execution_count": 657,
   "metadata": {},
   "outputs": [
    {
     "name": "stdout",
     "output_type": "stream",
     "text": [
      "Model converged after 155 iterations.\n",
      "Model converged after 12 iterations.\n",
      "Model converged after 114 iterations.\n",
      "Nodes: 1\n",
      "train mse:\t0.03944415092302953\n",
      "val mse:\t0.03991010448477913\n",
      "test mse:\t0.03953769660555248\n",
      "accuracy:\t0.14336917562724014\n",
      "\n",
      "Model converged after 16 iterations.\n",
      "Model converged after 160 iterations.\n",
      "Model converged after 19 iterations.\n",
      "Nodes: 2\n",
      "train mse:\t0.03791822559819091\n",
      "val mse:\t0.03814473211322552\n",
      "test mse:\t0.038249478993651755\n",
      "accuracy:\t0.21505376344086022\n",
      "\n",
      "Model converged after 212 iterations.\n",
      "Model converged after 79 iterations.\n",
      "Model converged after 164 iterations.\n",
      "Nodes: 4\n",
      "train mse:\t0.02895020764588699\n",
      "val mse:\t0.029915217832054548\n",
      "test mse:\t0.028984847402193762\n",
      "accuracy:\t0.4767025089605735\n",
      "\n",
      "Model converged after 122 iterations.\n",
      "Model converged after 196 iterations.\n",
      "Model converged after 239 iterations.\n",
      "Nodes: 8\n",
      "train mse:\t0.01899204681866383\n",
      "val mse:\t0.022577782182284983\n",
      "test mse:\t0.022211980276832355\n",
      "accuracy:\t0.6433691756272402\n",
      "\n",
      "Model converged after 187 iterations.\n",
      "Model converged after 171 iterations.\n",
      "Model converged after 110 iterations.\n",
      "Nodes: 16\n",
      "train mse:\t0.014067161934705688\n",
      "val mse:\t0.018596757022035528\n",
      "test mse:\t0.019433831714766262\n",
      "accuracy:\t0.7311827956989246\n",
      "\n",
      "Model converged after 139 iterations.\n",
      "Model converged after 224 iterations.\n",
      "Model converged after 192 iterations.\n",
      "Nodes: 32\n",
      "train mse:\t0.007377637779754423\n",
      "val mse:\t0.012855548899385769\n",
      "test mse:\t0.012715564420595004\n",
      "accuracy:\t0.8422939068100358\n",
      "\n",
      "Model converged after 86 iterations.\n",
      "Model converged after 202 iterations.\n",
      "Model converged after 185 iterations.\n",
      "Nodes: 64\n",
      "train mse:\t0.010011660153530506\n",
      "val mse:\t0.016397478866952604\n",
      "test mse:\t0.015298018981234915\n",
      "accuracy:\t0.7562724014336917\n",
      "\n"
     ]
    }
   ],
   "source": [
    "train_mse_list = []\n",
    "val_mse_list = []\n",
    "test_mse_list = []\n",
    "n = 1\n",
    "acc = 0\n",
    "while True:\n",
    "    train_mse = 0\n",
    "    val_mse = 0\n",
    "    test_mse = 0\n",
    "    curr_score = 0\n",
    "    for _ in range(3):\n",
    "        mlp = MLPClassifier([n], lr=best_lr, max_iter=500)\n",
    "        mlp.fit(X_train, y_train)\n",
    "        train_mse += mlp.train_loss[-1]\n",
    "        val_mse += mlp.val_loss[-1]\n",
    "        test_mse += mlp.average_loss(X_test, y_test)\n",
    "        curr_score += mlp.val_score[-1]\n",
    "    \n",
    "    train_mse /= 3\n",
    "    val_mse /= 3\n",
    "    test_mse /= 3\n",
    "    curr_score /= 3\n",
    "    \n",
    "    train_mse_list.append(train_mse)\n",
    "    val_mse_list.append(val_mse)\n",
    "    test_mse_list.append(test_mse)\n",
    "    print(\"Nodes: {}\".format(n))\n",
    "    print(\"train mse:\\t{}\".format(train_mse))\n",
    "    print(\"val mse:\\t{}\". format(val_mse))\n",
    "    print(\"test mse:\\t{}\".format(test_mse))\n",
    "    print(\"accuracy:\\t{}\".format(curr_score))\n",
    "    print()\n",
    "    if curr_score < acc:\n",
    "        break\n",
    "    acc = curr_score\n",
    "    n *= 2"
   ]
  },
  {
   "cell_type": "code",
   "execution_count": 658,
   "metadata": {},
   "outputs": [
    {
     "data": {
      "text/plain": [
       "[1, 2, 4, 8, 16, 32, 64]"
      ]
     },
     "execution_count": 658,
     "metadata": {},
     "output_type": "execute_result"
    }
   ],
   "source": [
    "num_nodes = [2**i for i in range(len(train_mse_list))]\n",
    "num_nodes"
   ]
  },
  {
   "cell_type": "code",
   "execution_count": 659,
   "metadata": {},
   "outputs": [
    {
     "data": {
      "image/png": "[encoded data removed]",
      "text/plain": [
       "<Figure size 720x504 with 1 Axes>"
      ]
     },
     "metadata": {
      "needs_background": "light"
     },
     "output_type": "display_data"
    }
   ],
   "source": [
    "plt.figure(figsize=(10,7))\n",
    "plt.semilogx(num_nodes, train_mse_list, label=\"train set\")\n",
    "plt.semilogx(num_nodes, val_mse_list, label=\"validation set\")\n",
    "plt.semilogx(num_nodes, test_mse_list, label=\"test set\")\n",
    "plt.xlabel(\"Number of nodes\")\n",
    "plt.ylabel(\"MSE\")\n",
    "plt.title(\"Effect of width of the hidden layer on the MSE\")\n",
    "plt.legend()\n",
    "plt.show()"
   ]
  },
  {
   "cell_type": "markdown",
   "metadata": {},
   "source": [
    "## Momentum Experiment"
   ]
  },
  {
   "cell_type": "code",
   "execution_count": 665,
   "metadata": {},
   "outputs": [],
   "source": [
    "best_nodes = num_nodes[np.array(val_mse_list).argmin()]"
   ]
  },
  {
   "cell_type": "code",
   "execution_count": 668,
   "metadata": {},
   "outputs": [
    {
     "data": {
      "text/plain": [
       "array([0.    , 0.0495, 0.099 , 0.1485, 0.198 , 0.2475, 0.297 , 0.3465,\n",
       "       0.396 , 0.4455, 0.495 , 0.5445, 0.594 , 0.6435, 0.693 , 0.7425,\n",
       "       0.792 , 0.8415, 0.891 , 0.9405, 0.99  ])"
      ]
     },
     "execution_count": 668,
     "metadata": {},
     "output_type": "execute_result"
    }
   ],
   "source": [
    "momentum = np.linspace(0, 0.99, 21)\n",
    "momentum"
   ]
  },
  {
   "cell_type": "code",
   "execution_count": 669,
   "metadata": {},
   "outputs": [
    {
     "name": "stdout",
     "output_type": "stream",
     "text": [
      "Model converged after 182 iterations.\n",
      "Model converged after 277 iterations.\n",
      "Model converged after 128 iterations.\n",
      "Momentum:\t0.0\n",
      "num epochs:\t195.66666666666666\n",
      "accuracy:\t0.8136200716845877\n",
      "\n",
      "Model converged after 129 iterations.\n",
      "Model converged after 115 iterations.\n",
      "Model converged after 194 iterations.\n",
      "Momentum:\t0.0495\n",
      "num epochs:\t146.0\n",
      "accuracy:\t0.7491039426523297\n",
      "\n",
      "Model converged after 188 iterations.\n",
      "Model converged after 194 iterations.\n",
      "Model converged after 241 iterations.\n",
      "Momentum:\t0.099\n",
      "num epochs:\t207.66666666666666\n",
      "accuracy:\t0.8476702508960573\n",
      "\n",
      "Model converged after 132 iterations.\n",
      "Model converged after 140 iterations.\n",
      "Model converged after 96 iterations.\n",
      "Momentum:\t0.14850000000000002\n",
      "num epochs:\t122.66666666666667\n",
      "accuracy:\t0.7293906810035843\n",
      "\n",
      "Model converged after 152 iterations.\n",
      "Model converged after 150 iterations.\n",
      "Model converged after 154 iterations.\n",
      "Momentum:\t0.198\n",
      "num epochs:\t152.0\n",
      "accuracy:\t0.8279569892473119\n",
      "\n",
      "Model converged after 196 iterations.\n",
      "Model converged after 177 iterations.\n",
      "Model converged after 148 iterations.\n",
      "Momentum:\t0.2475\n",
      "num epochs:\t173.66666666666666\n",
      "accuracy:\t0.8333333333333334\n",
      "\n",
      "Model converged after 162 iterations.\n",
      "Model converged after 135 iterations.\n",
      "Model converged after 196 iterations.\n",
      "Momentum:\t0.29700000000000004\n",
      "num epochs:\t164.33333333333334\n",
      "accuracy:\t0.8118279569892474\n",
      "\n",
      "Model converged after 133 iterations.\n",
      "Model converged after 108 iterations.\n",
      "Model converged after 61 iterations.\n",
      "Momentum:\t0.34650000000000003\n",
      "num epochs:\t100.66666666666667\n",
      "accuracy:\t0.7777777777777777\n",
      "\n",
      "Model converged after 81 iterations.\n",
      "Model converged after 163 iterations.\n",
      "Model converged after 122 iterations.\n",
      "Momentum:\t0.396\n",
      "num epochs:\t122.0\n",
      "accuracy:\t0.7867383512544803\n",
      "\n",
      "Model converged after 133 iterations.\n",
      "Model converged after 97 iterations.\n",
      "Model converged after 118 iterations.\n",
      "Momentum:\t0.4455\n",
      "num epochs:\t116.0\n",
      "accuracy:\t0.8172043010752686\n",
      "\n",
      "Model converged after 202 iterations.\n",
      "Model converged after 117 iterations.\n",
      "Model converged after 135 iterations.\n",
      "Momentum:\t0.495\n",
      "num epochs:\t151.33333333333334\n",
      "accuracy:\t0.8351254480286738\n",
      "\n",
      "Model converged after 90 iterations.\n",
      "Model converged after 115 iterations.\n",
      "Model converged after 137 iterations.\n",
      "Momentum:\t0.5445\n",
      "num epochs:\t114.0\n",
      "accuracy:\t0.7795698924731184\n",
      "\n",
      "Model converged after 93 iterations.\n",
      "Model converged after 96 iterations.\n",
      "Model converged after 77 iterations.\n",
      "Momentum:\t0.5940000000000001\n",
      "num epochs:\t88.66666666666667\n",
      "accuracy:\t0.7652329749103943\n",
      "\n",
      "Model converged after 131 iterations.\n",
      "Model converged after 156 iterations.\n",
      "Model converged after 108 iterations.\n",
      "Momentum:\t0.6435000000000001\n",
      "num epochs:\t131.66666666666666\n",
      "accuracy:\t0.8046594982078853\n",
      "\n",
      "Model converged after 121 iterations.\n",
      "Model converged after 156 iterations.\n",
      "Model converged after 55 iterations.\n",
      "Momentum:\t0.6930000000000001\n",
      "num epochs:\t110.66666666666667\n",
      "accuracy:\t0.7795698924731184\n",
      "\n",
      "Model converged after 105 iterations.\n",
      "Model converged after 125 iterations.\n",
      "Model converged after 109 iterations.\n",
      "Momentum:\t0.7425\n",
      "num epochs:\t113.0\n",
      "accuracy:\t0.8458781362007168\n",
      "\n",
      "Model converged after 99 iterations.\n",
      "Model converged after 65 iterations.\n",
      "Model converged after 35 iterations.\n",
      "Momentum:\t0.792\n",
      "num epochs:\t66.33333333333333\n",
      "accuracy:\t0.7670250896057347\n",
      "\n",
      "Model converged after 50 iterations.\n",
      "Model converged after 79 iterations.\n",
      "Model converged after 94 iterations.\n",
      "Momentum:\t0.8415\n",
      "num epochs:\t74.33333333333333\n",
      "accuracy:\t0.7670250896057347\n",
      "\n",
      "Model converged after 101 iterations.\n",
      "Model converged after 92 iterations.\n",
      "Model converged after 89 iterations.\n",
      "Momentum:\t0.891\n",
      "num epochs:\t94.0\n",
      "accuracy:\t0.7508960573476703\n",
      "\n",
      "Model converged after 26 iterations.\n",
      "Model converged after 30 iterations.\n",
      "Model converged after 11 iterations.\n",
      "Momentum:\t0.9405\n",
      "num epochs:\t22.333333333333332\n",
      "accuracy:\t0.17204301075268816\n",
      "\n",
      "Model converged after 31 iterations.\n",
      "Model converged after 10 iterations.\n",
      "Model converged after 10 iterations.\n",
      "Momentum:\t0.99\n",
      "num epochs:\t17.0\n",
      "accuracy:\t0.06810035842293906\n",
      "\n"
     ]
    }
   ],
   "source": [
    "acc = 0\n",
    "num_epochs = []\n",
    "for m in momentum:\n",
    "    n = 0\n",
    "    curr_score = 0\n",
    "    for _ in range(3):\n",
    "        mlp = MLPClassifier([best_nodes], lr=best_lr, momentum=m, max_iter=500)\n",
    "        mlp.fit(X_train, y_train)\n",
    "        n += mlp.num_iter\n",
    "        curr_score += mlp.val_score[-1]\n",
    "    \n",
    "    n /= 3\n",
    "    curr_score /= 3\n",
    "    \n",
    "    num_epochs.append(n)\n",
    "    print(\"Momentum:\\t{}\".format(m))\n",
    "    print(\"num epochs:\\t{}\".format(n))\n",
    "    print(\"accuracy:\\t{}\".format(curr_score))\n",
    "    print()\n",
    "    acc = curr_score"
   ]
  },
  {
   "cell_type": "code",
   "execution_count": 671,
   "metadata": {},
   "outputs": [
    {
     "data": {
      "image/png": "[encoded data removed]",
      "text/plain": [
       "<Figure size 720x504 with 1 Axes>"
      ]
     },
     "metadata": {
      "needs_background": "light"
     },
     "output_type": "display_data"
    }
   ],
   "source": [
    "plt.figure(figsize=(10,7))\n",
    "plt.semilogx(momentum, num_epochs)\n",
    "plt.xlabel(\"Momentum\")\n",
    "plt.ylabel(\"epochs\")\n",
    "plt.title(\"Effect of momentum in convergence\")\n",
    "plt.show()"
   ]
  },
  {
   "cell_type": "code",
   "execution_count": 8,
   "metadata": {},
   "outputs": [],
   "source": [
    "from sklearn.neural_network import MLPClassifier"
   ]
  },
  {
   "cell_type": "code",
   "execution_count": 674,
   "metadata": {},
   "outputs": [],
   "source": [
    "from sklearn.datasets import load_iris\n",
    "iris = load_iris()\n",
    "X = iris.data\n",
    "y_a = iris.target\n",
    "y = y_a.reshape(-1, 1)\n",
    "y_onehot = onehot_encode(y_a)\n",
    "y_onehot\n",
    "X_train, X_test, y_train, y_test = train_test_split(X, y_onehot)"
   ]
  },
  {
   "cell_type": "code",
   "execution_count": 690,
   "metadata": {},
   "outputs": [
    {
     "data": {
      "text/plain": [
       "MLPClassifier(activation='logistic', alpha=0.0001, batch_size='auto',\n",
       "              beta_1=0.9, beta_2=0.999, early_stopping=False, epsilon=1e-08,\n",
       "              hidden_layer_sizes=[8], learning_rate='constant',\n",
       "              learning_rate_init=0.001, max_iter=10000, momentum=0.9,\n",
       "              n_iter_no_change=10, nesterovs_momentum=True, power_t=0.5,\n",
       "              random_state=None, shuffle=True, solver='adam', tol=0.0001,\n",
       "              validation_fraction=0.1, verbose=False, warm_start=False)"
      ]
     },
     "execution_count": 690,
     "metadata": {},
     "output_type": "execute_result"
    }
   ],
   "source": [
    "mlp = MLPClassifier(hidden_layer_sizes=[8], activation=\"logistic\", max_iter=10000)\n",
    "mlp.fit(X_train, y_train)"
   ]
  },
  {
   "cell_type": "code",
   "execution_count": 691,
   "metadata": {},
   "outputs": [
    {
     "data": {
      "text/plain": [
       "1.0"
      ]
     },
     "execution_count": 691,
     "metadata": {},
     "output_type": "execute_result"
    }
   ],
   "source": [
    "mlp.score(X_test, y_test)"
   ]
  },
  {
   "cell_type": "code",
   "execution_count": 692,
   "metadata": {},
   "outputs": [],
   "source": [
    "import arff\n",
    "path = r'vowels.arff'\n",
    "vowel = arff.Arff(arff=path, label_count=1)\n",
    "X = data[:, 2:-1]\n",
    "y = onehot_encode(data[:, -1])\n",
    "X_train, X_test, y_train, y_test = train_test_split(X, y, test_size=.25)"
   ]
  },
  {
   "cell_type": "code",
   "execution_count": 740,
   "metadata": {},
   "outputs": [
    {
     "data": {
      "text/plain": [
       "MLPClassifier(activation='relu', alpha=0.1, batch_size='auto', beta_1=0.9,\n",
       "              beta_2=0.999, early_stopping=True, epsilon=1e-08,\n",
       "              hidden_layer_sizes=[16, 32, 64, 32, 16], learning_rate='constant',\n",
       "              learning_rate_init=0.01, max_iter=10000, momentum=0.9,\n",
       "              n_iter_no_change=100, nesterovs_momentum=True, power_t=0.5,\n",
       "              random_state=None, shuffle=True, solver='adam', tol=0.0001,\n",
       "              validation_fraction=0.1, verbose=False, warm_start=False)"
      ]
     },
     "execution_count": 740,
     "metadata": {},
     "output_type": "execute_result"
    }
   ],
   "source": [
    "mlp = MLPClassifier(hidden_layer_sizes=[16, 32, 64, 32, 16], learning_rate_init=0.01, early_stopping=True, n_iter_no_change=100, activation=\"relu\", max_iter=10000, alpha=0.1)\n",
    "mlp.fit(X_train, y_train)"
   ]
  },
  {
   "cell_type": "code",
   "execution_count": 741,
   "metadata": {},
   "outputs": [
    {
     "data": {
      "text/plain": [
       "0.9233870967741935"
      ]
     },
     "execution_count": 741,
     "metadata": {},
     "output_type": "execute_result"
    }
   ],
   "source": [
    "mlp.score(X_test, y_test)"
   ]
  },
  {
   "cell_type": "code",
   "execution_count": 5,
   "metadata": {},
   "outputs": [],
   "source": [
    "from sklearn.datasets import load_digits\n",
    "digits = load_digits()\n",
    "X = digits.data\n",
    "y_a = digits.target\n",
    "y = y_a.reshape(-1, 1)\n",
    "y_onehot = onehot_encode(y_a)\n",
    "X_train, X_test, y_train, y_test = train_test_split(X, y_onehot)"
   ]
  },
  {
   "cell_type": "code",
   "execution_count": 14,
   "metadata": {},
   "outputs": [],
   "source": [
    "lr_list = np.logspace(-3, 0, 20)\n",
    "alpha_list = np.logspace(-3, -0.5, 10)"
   ]
  },
  {
   "cell_type": "code",
   "execution_count": null,
   "metadata": {},
   "outputs": [
    {
     "name": "stdout",
     "output_type": "stream",
     "text": [
      "0.001 0.001 0.9644444444444444\n",
      "0.001 0.0018957356524063754 0.9644444444444444\n",
      "0.001 0.003593813663804626 0.9733333333333334\n",
      "0.001 0.006812920690579615 0.9577777777777777\n",
      "0.001 0.01291549665014884 0.9666666666666667\n",
      "0.001 0.024484367468222266 0.9688888888888889\n",
      "0.001 0.046415888336127795 0.96\n",
      "0.001 0.08799225435691074 0.8022222222222222\n",
      "0.001 0.1668100537200059 0.9644444444444444\n",
      "0.001 0.31622776601683794 0.9622222222222222\n",
      "0.0014384498882876629 0.001 0.9555555555555556\n",
      "0.0014384498882876629 0.0018957356524063754 0.9622222222222222\n",
      "0.0014384498882876629 0.003593813663804626 0.9666666666666667\n",
      "0.0014384498882876629 0.006812920690579615 0.9511111111111111\n",
      "0.0014384498882876629 0.01291549665014884 0.96\n",
      "0.0014384498882876629 0.024484367468222266 0.9622222222222222\n",
      "0.0014384498882876629 0.046415888336127795 0.9755555555555555\n",
      "0.0014384498882876629 0.08799225435691074 0.9777777777777777\n",
      "0.0014384498882876629 0.1668100537200059 0.9644444444444444\n",
      "0.0014384498882876629 0.31622776601683794 0.9666666666666667\n",
      "0.00206913808111479 0.001 0.9666666666666667\n",
      "0.00206913808111479 0.0018957356524063754 0.9644444444444444\n",
      "0.00206913808111479 0.003593813663804626 0.9688888888888889\n",
      "0.00206913808111479 0.006812920690579615 0.9688888888888889\n",
      "0.00206913808111479 0.01291549665014884 0.9688888888888889\n",
      "0.00206913808111479 0.024484367468222266 0.9644444444444444\n",
      "0.00206913808111479 0.046415888336127795 0.96\n",
      "0.00206913808111479 0.08799225435691074 0.9666666666666667\n",
      "0.00206913808111479 0.1668100537200059 0.9711111111111111\n",
      "0.00206913808111479 0.31622776601683794 0.9711111111111111\n",
      "0.002976351441631319 0.001 0.9644444444444444\n",
      "0.002976351441631319 0.0018957356524063754 0.9666666666666667\n",
      "0.002976351441631319 0.003593813663804626 0.9644444444444444\n",
      "0.002976351441631319 0.006812920690579615 0.9577777777777777\n",
      "0.002976351441631319 0.01291549665014884 0.9711111111111111\n",
      "0.002976351441631319 0.024484367468222266 0.96\n",
      "0.002976351441631319 0.046415888336127795 0.9666666666666667\n",
      "0.002976351441631319 0.08799225435691074 0.9555555555555556\n",
      "0.002976351441631319 0.1668100537200059 0.9444444444444444\n",
      "0.002976351441631319 0.31622776601683794 0.9666666666666667\n",
      "0.004281332398719396 0.001 0.96\n",
      "0.004281332398719396 0.0018957356524063754 0.9711111111111111\n",
      "0.004281332398719396 0.003593813663804626 0.9622222222222222\n",
      "0.004281332398719396 0.006812920690579615 0.98\n",
      "0.004281332398719396 0.01291549665014884 0.9688888888888889\n",
      "0.004281332398719396 0.024484367468222266 0.9733333333333334\n",
      "0.004281332398719396 0.046415888336127795 0.9622222222222222\n",
      "0.004281332398719396 0.08799225435691074 0.92\n",
      "0.004281332398719396 0.1668100537200059 0.9688888888888889\n",
      "0.004281332398719396 0.31622776601683794 0.9644444444444444\n",
      "0.006158482110660267 0.001 0.9688888888888889\n",
      "0.006158482110660267 0.0018957356524063754 0.9622222222222222\n",
      "0.006158482110660267 0.003593813663804626 0.9666666666666667\n",
      "0.006158482110660267 0.006812920690579615 0.9577777777777777\n",
      "0.006158482110660267 0.01291549665014884 0.9666666666666667\n",
      "0.006158482110660267 0.024484367468222266 0.9755555555555555\n",
      "0.006158482110660267 0.046415888336127795 0.94\n",
      "0.006158482110660267 0.08799225435691074 0.9422222222222222\n",
      "0.006158482110660267 0.1668100537200059 0.9622222222222222\n",
      "0.006158482110660267 0.31622776601683794 0.9466666666666667\n",
      "0.008858667904100823 0.001 0.9622222222222222\n",
      "0.008858667904100823 0.0018957356524063754 0.9688888888888889\n",
      "0.008858667904100823 0.003593813663804626 0.9733333333333334\n",
      "0.008858667904100823 0.006812920690579615 0.9311111111111111\n",
      "0.008858667904100823 0.01291549665014884 0.9688888888888889\n",
      "0.008858667904100823 0.024484367468222266 0.9711111111111111\n",
      "0.008858667904100823 0.046415888336127795 0.9666666666666667\n",
      "0.008858667904100823 0.08799225435691074 0.9511111111111111\n",
      "0.008858667904100823 0.1668100537200059 0.9622222222222222\n",
      "0.008858667904100823 0.31622776601683794 0.94\n",
      "0.012742749857031334 0.001 0.9555555555555556\n",
      "0.012742749857031334 0.0018957356524063754 0.9666666666666667\n",
      "0.012742749857031334 0.003593813663804626 0.9577777777777777\n",
      "0.012742749857031334 0.006812920690579615 0.9422222222222222\n",
      "0.012742749857031334 0.01291549665014884 0.9533333333333334\n",
      "0.012742749857031334 0.024484367468222266 0.9511111111111111\n",
      "0.012742749857031334 0.046415888336127795 0.9533333333333334\n",
      "0.012742749857031334 0.08799225435691074 0.9511111111111111\n",
      "0.012742749857031334 0.1668100537200059 0.9355555555555556\n",
      "0.012742749857031334 0.31622776601683794 0.94\n",
      "0.018329807108324356 0.001 0.9133333333333333\n",
      "0.018329807108324356 0.0018957356524063754 0.92\n",
      "0.018329807108324356 0.003593813663804626 0.9488888888888889\n",
      "0.018329807108324356 0.006812920690579615 0.9177777777777778\n",
      "0.018329807108324356 0.01291549665014884 0.8666666666666667\n",
      "0.018329807108324356 0.024484367468222266 0.9\n",
      "0.018329807108324356 0.046415888336127795 0.7355555555555555\n",
      "0.018329807108324356 0.08799225435691074 0.94\n",
      "0.018329807108324356 0.1668100537200059 0.8866666666666667\n",
      "0.018329807108324356 0.31622776601683794 0.9311111111111111\n",
      "0.026366508987303583 0.001 0.6488888888888888\n",
      "0.026366508987303583 0.0018957356524063754 0.8955555555555555\n",
      "0.026366508987303583 0.003593813663804626 0.8\n",
      "0.026366508987303583 0.006812920690579615 0.7333333333333333\n",
      "0.026366508987303583 0.01291549665014884 0.8844444444444445\n",
      "0.026366508987303583 0.024484367468222266 0.28\n",
      "0.026366508987303583 0.046415888336127795 0.1622222222222222\n",
      "0.026366508987303583 0.08799225435691074 0.8066666666666666\n",
      "0.026366508987303583 0.1668100537200059 0.8\n",
      "0.026366508987303583 0.31622776601683794 0.6533333333333333\n",
      "0.0379269019073225 0.001 0.09111111111111111\n",
      "0.0379269019073225 0.0018957356524063754 0.5911111111111111\n",
      "0.0379269019073225 0.003593813663804626 0.05333333333333334\n",
      "0.0379269019073225 0.006812920690579615 0.0\n",
      "0.0379269019073225 0.01291549665014884 0.18666666666666668\n",
      "0.0379269019073225 0.024484367468222266 0.0\n",
      "0.0379269019073225 0.046415888336127795 0.6533333333333333\n",
      "0.0379269019073225 0.08799225435691074 0.8244444444444444\n",
      "0.0379269019073225 0.1668100537200059 0.7911111111111111\n",
      "0.0379269019073225 0.31622776601683794 0.21555555555555556\n",
      "0.05455594781168517 0.001 0.0\n",
      "0.05455594781168517 0.0018957356524063754 0.15555555555555556\n",
      "0.05455594781168517 0.003593813663804626 0.06666666666666667\n",
      "0.05455594781168517 0.006812920690579615 0.0\n",
      "0.05455594781168517 0.01291549665014884 0.0\n",
      "0.05455594781168517 0.024484367468222266 0.0\n",
      "0.05455594781168517 0.046415888336127795 0.0\n"
     ]
    },
    {
     "name": "stderr",
     "output_type": "stream",
     "text": [
      "/Users/seong-euncho/anaconda3/lib/python3.6/site-packages/sklearn/neural_network/multilayer_perceptron.py:566: ConvergenceWarning: Stochastic Optimizer: Maximum iterations (500) reached and the optimization hasn't converged yet.\n",
      "  % self.max_iter, ConvergenceWarning)\n"
     ]
    },
    {
     "name": "stdout",
     "output_type": "stream",
     "text": [
      "0.05455594781168517 0.08799225435691074 0.0\n"
     ]
    },
    {
     "name": "stderr",
     "output_type": "stream",
     "text": [
      "/Users/seong-euncho/anaconda3/lib/python3.6/site-packages/sklearn/neural_network/multilayer_perceptron.py:566: ConvergenceWarning: Stochastic Optimizer: Maximum iterations (500) reached and the optimization hasn't converged yet.\n",
      "  % self.max_iter, ConvergenceWarning)\n"
     ]
    },
    {
     "name": "stdout",
     "output_type": "stream",
     "text": [
      "0.05455594781168517 0.1668100537200059 0.0\n",
      "0.05455594781168517 0.31622776601683794 0.28\n",
      "0.07847599703514611 0.001 0.0\n",
      "0.07847599703514611 0.0018957356524063754 0.0\n",
      "0.07847599703514611 0.003593813663804626 0.09111111111111111\n",
      "0.07847599703514611 0.006812920690579615 0.0\n",
      "0.07847599703514611 0.01291549665014884 0.0\n"
     ]
    },
    {
     "name": "stderr",
     "output_type": "stream",
     "text": [
      "/Users/seong-euncho/anaconda3/lib/python3.6/site-packages/sklearn/neural_network/multilayer_perceptron.py:566: ConvergenceWarning: Stochastic Optimizer: Maximum iterations (500) reached and the optimization hasn't converged yet.\n",
      "  % self.max_iter, ConvergenceWarning)\n"
     ]
    },
    {
     "name": "stdout",
     "output_type": "stream",
     "text": [
      "0.07847599703514611 0.024484367468222266 0.0\n"
     ]
    },
    {
     "name": "stderr",
     "output_type": "stream",
     "text": [
      "/Users/seong-euncho/anaconda3/lib/python3.6/site-packages/sklearn/neural_network/multilayer_perceptron.py:568: UserWarning: Training interrupted by user.\n",
      "  warnings.warn(\"Training interrupted by user.\")\n"
     ]
    },
    {
     "name": "stdout",
     "output_type": "stream",
     "text": [
      "0.07847599703514611 0.046415888336127795 0.0\n"
     ]
    },
    {
     "name": "stderr",
     "output_type": "stream",
     "text": [
      "/Users/seong-euncho/anaconda3/lib/python3.6/site-packages/sklearn/neural_network/multilayer_perceptron.py:568: UserWarning: Training interrupted by user.\n",
      "  warnings.warn(\"Training interrupted by user.\")\n"
     ]
    },
    {
     "name": "stdout",
     "output_type": "stream",
     "text": [
      "0.07847599703514611 0.08799225435691074 0.07111111111111111\n",
      "0.07847599703514611 0.1668100537200059 0.06444444444444444\n"
     ]
    },
    {
     "name": "stderr",
     "output_type": "stream",
     "text": [
      "/Users/seong-euncho/anaconda3/lib/python3.6/site-packages/sklearn/neural_network/multilayer_perceptron.py:568: UserWarning: Training interrupted by user.\n",
      "  warnings.warn(\"Training interrupted by user.\")\n",
      "/Users/seong-euncho/anaconda3/lib/python3.6/site-packages/sklearn/neural_network/multilayer_perceptron.py:568: UserWarning: Training interrupted by user.\n",
      "  warnings.warn(\"Training interrupted by user.\")\n"
     ]
    },
    {
     "name": "stdout",
     "output_type": "stream",
     "text": [
      "0.07847599703514611 0.31622776601683794 0.0\n",
      "0.11288378916846883 0.001 0.0\n",
      "0.11288378916846883 0.0018957356524063754 0.0\n",
      "0.11288378916846883 0.003593813663804626 0.0\n",
      "0.11288378916846883 0.006812920690579615 0.0\n",
      "0.11288378916846883 0.01291549665014884 0.0\n"
     ]
    },
    {
     "name": "stderr",
     "output_type": "stream",
     "text": [
      "/Users/seong-euncho/anaconda3/lib/python3.6/site-packages/sklearn/neural_network/multilayer_perceptron.py:568: UserWarning: Training interrupted by user.\n",
      "  warnings.warn(\"Training interrupted by user.\")\n"
     ]
    },
    {
     "name": "stdout",
     "output_type": "stream",
     "text": [
      "0.11288378916846883 0.024484367468222266 0.0\n"
     ]
    }
   ],
   "source": [
    "scores = []\n",
    "for lr in lr_list:\n",
    "    for alpha in alpha_list:\n",
    "        mlp = MLPClassifier(hidden_layer_sizes=[64, 128, 256, 128, 64], learning_rate_init=lr, alpha=alpha, activation=\"relu\", max_iter=500)\n",
    "        mlp.fit(X_train, y_train)\n",
    "        score = mlp.score(X_test, y_test)\n",
    "        scores.append((lr, alpha, score))\n",
    "        print(lr, alpha, score)"
   ]
  },
  {
   "cell_type": "code",
   "execution_count": 18,
   "metadata": {},
   "outputs": [
    {
     "data": {
      "text/plain": [
       "[(0.001, 0.001, 0.96)]"
      ]
     },
     "execution_count": 18,
     "metadata": {},
     "output_type": "execute_result"
    }
   ],
   "source": [
    "scores"
   ]
  },
  {
   "cell_type": "code",
   "execution_count": 757,
   "metadata": {},
   "outputs": [],
   "source": []
  },
  {
   "cell_type": "code",
   "execution_count": 758,
   "metadata": {},
   "outputs": [
    {
     "data": {
      "text/plain": [
       "array([1.00000000e-04, 1.62377674e-04, 2.63665090e-04, 4.28133240e-04,\n",
       "       6.95192796e-04, 1.12883789e-03, 1.83298071e-03, 2.97635144e-03,\n",
       "       4.83293024e-03, 7.84759970e-03, 1.27427499e-02, 2.06913808e-02,\n",
       "       3.35981829e-02, 5.45559478e-02, 8.85866790e-02, 1.43844989e-01,\n",
       "       2.33572147e-01, 3.79269019e-01, 6.15848211e-01, 1.00000000e+00])"
      ]
     },
     "execution_count": 758,
     "metadata": {},
     "output_type": "execute_result"
    }
   ],
   "source": [
    "lr_list"
   ]
  },
  {
   "cell_type": "code",
   "execution_count": null,
   "metadata": {},
   "outputs": [],
   "source": []
  }
 ],
 "metadata": {
  "kernelspec": {
   "display_name": "Python 3",
   "language": "python",
   "name": "python3"
  },
  "language_info": {
   "codemirror_mode": {
    "name": "ipython",
    "version": 3
   },
   "file_extension": ".py",
   "mimetype": "text/x-python",
   "name": "python",
   "nbconvert_exporter": "python",
   "pygments_lexer": "ipython3",
   "version": "3.6.8"
  }
 },
 "nbformat": 4,
 "nbformat_minor": 2
}
